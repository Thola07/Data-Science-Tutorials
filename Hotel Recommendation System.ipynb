{
 "cells": [
  {
   "cell_type": "code",
   "execution_count": 35,
   "metadata": {},
   "outputs": [],
   "source": [
    "import pandas as pd\n",
    "import matplotlib.pyplot as plt\n",
    "import numpy as np\n",
    "import pylab as pl\n",
    "%matplotlib inline"
   ]
  },
  {
   "cell_type": "code",
   "execution_count": 36,
   "metadata": {},
   "outputs": [],
   "source": [
    "df = pd.read_csv(\"~\\Desktop\\Durban_Hotels.csv\")"
   ]
  },
  {
   "cell_type": "code",
   "execution_count": 37,
   "metadata": {},
   "outputs": [
    {
     "data": {
      "text/html": [
       "<div>\n",
       "<style scoped>\n",
       "    .dataframe tbody tr th:only-of-type {\n",
       "        vertical-align: middle;\n",
       "    }\n",
       "\n",
       "    .dataframe tbody tr th {\n",
       "        vertical-align: top;\n",
       "    }\n",
       "\n",
       "    .dataframe thead th {\n",
       "        text-align: right;\n",
       "    }\n",
       "</style>\n",
       "<table border=\"1\" class=\"dataframe\">\n",
       "  <thead>\n",
       "    <tr style=\"text-align: right;\">\n",
       "      <th></th>\n",
       "      <th>hotel name</th>\n",
       "      <th>hotel description</th>\n",
       "      <th>hotel reviews</th>\n",
       "      <th>hotel_review_score</th>\n",
       "    </tr>\n",
       "  </thead>\n",
       "  <tbody>\n",
       "    <tr>\n",
       "      <th>0</th>\n",
       "      <td>Endless Horizons Boutique Hotel</td>\n",
       "      <td>Endless Horizons Boutique Hotel features an in...</td>\n",
       "      <td>145 reviews</td>\n",
       "      <td>9.1</td>\n",
       "    </tr>\n",
       "    <tr>\n",
       "      <th>1</th>\n",
       "      <td>The Oyster Box</td>\n",
       "      <td>Overlooking the Umhlanga Lighthouse and Indian...</td>\n",
       "      <td>689 reviews</td>\n",
       "      <td>9.4</td>\n",
       "    </tr>\n",
       "    <tr>\n",
       "      <th>2</th>\n",
       "      <td>Ekhaya Boutique Hotel</td>\n",
       "      <td>Ideally located in the Westville district of D...</td>\n",
       "      <td>16 reviews</td>\n",
       "      <td>9.3</td>\n",
       "    </tr>\n",
       "    <tr>\n",
       "      <th>3</th>\n",
       "      <td>ONOMO Hotel Durban</td>\n",
       "      <td>Onomo Hotel Durban is located in walking dista...</td>\n",
       "      <td>1,563 reviews</td>\n",
       "      <td>8.5</td>\n",
       "    </tr>\n",
       "    <tr>\n",
       "      <th>4</th>\n",
       "      <td>The Capital Pearls Hotel</td>\n",
       "      <td>Set on Umhlanga's main beach, The Capital Pear...</td>\n",
       "      <td>2,054 reviews</td>\n",
       "      <td>8.9</td>\n",
       "    </tr>\n",
       "    <tr>\n",
       "      <th>5</th>\n",
       "      <td>Regal Inn Umhlanga Gateway</td>\n",
       "      <td>Regal Inn Umhlanga Gateway is set in the Umhla...</td>\n",
       "      <td>2,047 reviews</td>\n",
       "      <td>8.0</td>\n",
       "    </tr>\n",
       "    <tr>\n",
       "      <th>6</th>\n",
       "      <td>aha Gateway Hotel Umhlanga</td>\n",
       "      <td>A rooftop pool is behind aha Gateway Hotel - U...</td>\n",
       "      <td>1,686 reviews</td>\n",
       "      <td>8.4</td>\n",
       "    </tr>\n",
       "    <tr>\n",
       "      <th>7</th>\n",
       "      <td>Coastlands Umhlanga Hotel and Convention Centre</td>\n",
       "      <td>Just a 15-minute drive from King Shaka Interna...</td>\n",
       "      <td>2,367 reviews</td>\n",
       "      <td>8.4</td>\n",
       "    </tr>\n",
       "    <tr>\n",
       "      <th>8</th>\n",
       "      <td>Holiday Inn Express Durban - Umhlanga</td>\n",
       "      <td>Located in Umhlanga Ridge, Holiday Inn Express...</td>\n",
       "      <td>1,060 reviews</td>\n",
       "      <td>8.4</td>\n",
       "    </tr>\n",
       "    <tr>\n",
       "      <th>9</th>\n",
       "      <td>Coastlands Musgrave Hotel</td>\n",
       "      <td>Located 1.4 mi from Greyville Racecourse, Coas...</td>\n",
       "      <td>1,437 reviews</td>\n",
       "      <td>8.0</td>\n",
       "    </tr>\n",
       "  </tbody>\n",
       "</table>\n",
       "</div>"
      ],
      "text/plain": [
       "                                        hotel name  \\\n",
       "0                  Endless Horizons Boutique Hotel   \n",
       "1                                   The Oyster Box   \n",
       "2                            Ekhaya Boutique Hotel   \n",
       "3                               ONOMO Hotel Durban   \n",
       "4                         The Capital Pearls Hotel   \n",
       "5                       Regal Inn Umhlanga Gateway   \n",
       "6                       aha Gateway Hotel Umhlanga   \n",
       "7  Coastlands Umhlanga Hotel and Convention Centre   \n",
       "8            Holiday Inn Express Durban - Umhlanga   \n",
       "9                        Coastlands Musgrave Hotel   \n",
       "\n",
       "                                   hotel description  hotel reviews  \\\n",
       "0  Endless Horizons Boutique Hotel features an in...    145 reviews   \n",
       "1  Overlooking the Umhlanga Lighthouse and Indian...    689 reviews   \n",
       "2  Ideally located in the Westville district of D...     16 reviews   \n",
       "3  Onomo Hotel Durban is located in walking dista...  1,563 reviews   \n",
       "4  Set on Umhlanga's main beach, The Capital Pear...  2,054 reviews   \n",
       "5  Regal Inn Umhlanga Gateway is set in the Umhla...  2,047 reviews   \n",
       "6  A rooftop pool is behind aha Gateway Hotel - U...  1,686 reviews   \n",
       "7  Just a 15-minute drive from King Shaka Interna...  2,367 reviews   \n",
       "8  Located in Umhlanga Ridge, Holiday Inn Express...  1,060 reviews   \n",
       "9  Located 1.4 mi from Greyville Racecourse, Coas...  1,437 reviews   \n",
       "\n",
       "   hotel_review_score  \n",
       "0                 9.1  \n",
       "1                 9.4  \n",
       "2                 9.3  \n",
       "3                 8.5  \n",
       "4                 8.9  \n",
       "5                 8.0  \n",
       "6                 8.4  \n",
       "7                 8.4  \n",
       "8                 8.4  \n",
       "9                 8.0  "
      ]
     },
     "execution_count": 37,
     "metadata": {},
     "output_type": "execute_result"
    }
   ],
   "source": [
    "df"
   ]
  },
  {
   "cell_type": "code",
   "execution_count": 38,
   "metadata": {},
   "outputs": [
    {
     "data": {
      "text/plain": [
       "(10, 4)"
      ]
     },
     "execution_count": 38,
     "metadata": {},
     "output_type": "execute_result"
    }
   ],
   "source": [
    "df.shape"
   ]
  },
  {
   "cell_type": "code",
   "execution_count": 39,
   "metadata": {},
   "outputs": [
    {
     "data": {
      "image/png": "[encoded data removed]",
      "text/plain": [
       "<Figure size 720x432 with 1 Axes>"
      ]
     },
     "metadata": {
      "needs_background": "light"
     },
     "output_type": "display_data"
    }
   ],
   "source": [
    "# plot for hotel names bases on hotel review score\n",
    "Top_Hotel  = (df.groupby('hotel name')['hotel_review_score'].sum()/df.groupby('hotel name')['hotel_review_score'].count()).sort_values()\n",
    "Top_Hotel.plot(kind='barh', figsize=(10, 6))\n",
    "\n",
    "plt.xlabel('Hotel review score') # add to x-label to the plot\n",
    "plt.ylabel('Hotels') # add y-label to the plot\n",
    "plt.title('Top 10  Durban Hotels based on review score') # add title to the plot\n",
    "plt.show()"
   ]
  },
  {
   "cell_type": "code",
   "execution_count": 40,
   "metadata": {},
   "outputs": [
    {
     "data": {
      "text/plain": [
       "(10, 188)"
      ]
     },
     "execution_count": 40,
     "metadata": {},
     "output_type": "execute_result"
    }
   ],
   "source": [
    "# finding similarity between the hotel description and customer reviews\n",
    "from sklearn.feature_extraction.text import TfidfVectorizer\n",
    "# define tfidf vectorizer object,to remove English words like 'the', 'a'\n",
    "tfidf = TfidfVectorizer(stop_words='english')\n",
    "# constructing tfidf matrix by fitting and transforming the data\n",
    "tfidf_matrix = tfidf.fit_transform(df['hotel description'])\n",
    "# shape of tfdidf_matrix\n",
    "tfidf_matrix.shape"
   ]
  },
  {
   "cell_type": "code",
   "execution_count": 41,
   "metadata": {},
   "outputs": [],
   "source": [
    "# using linear_kernel package for calculating similarities between the hotels\n",
    "from sklearn.metrics.pairwise import linear_kernel, cosine_similarity\n",
    "cosine_sim = linear_kernel(tfidf_matrix, tfidf_matrix)"
   ]
  },
  {
   "cell_type": "code",
   "execution_count": 42,
   "metadata": {},
   "outputs": [],
   "source": [
    "# constructing a reverse map of indices and hotel names\n",
    "df = df.reset_index()\n",
    "titles = df['hotel name']\n",
    "indices = pd.Series(df.index, index=df['hotel name'])"
   ]
  },
  {
   "cell_type": "code",
   "execution_count": 43,
   "metadata": {},
   "outputs": [],
   "source": [
    "# function that takes a hotel name as input and output most similar hotels\n",
    "def get_recommendations(title, cosine_sim=cosine_sim):\n",
    "    # get the index of the hotel that matches the hotel name\n",
    "    idx = indices[title]\n",
    "    # get similarity scores of all hotels similar with that hotel\n",
    "    sim_scores = list(enumerate(cosine_sim[idx]))\n",
    "    # sort hotel based on the similarity scores\n",
    "    sim_scores = sorted(sim_scores, key=lambda x: x[1], reverse=True)\n",
    "    # get the scores of the 5 most similar hotels\n",
    "    sim_scores = sim_scores[1:6]\n",
    "    hotel_indices = [i[0] for i in sim_scores]\n",
    "    # return the top 5 most similar hotels\n",
    "    return titles.iloc[hotel_indices]"
   ]
  },
  {
   "cell_type": "code",
   "execution_count": 44,
   "metadata": {},
   "outputs": [
    {
     "data": {
      "text/plain": [
       "9                          Coastlands Musgrave Hotel\n",
       "5                         Regal Inn Umhlanga Gateway\n",
       "8              Holiday Inn Express Durban - Umhlanga\n",
       "7    Coastlands Umhlanga Hotel and Convention Centre\n",
       "6                         aha Gateway Hotel Umhlanga\n",
       "Name: hotel name, dtype: object"
      ]
     },
     "execution_count": 44,
     "metadata": {},
     "output_type": "execute_result"
    }
   ],
   "source": [
    "get_recommendations('The Oyster Box')"
   ]
  },
  {
   "cell_type": "code",
   "execution_count": 45,
   "metadata": {},
   "outputs": [
    {
     "data": {
      "text/plain": [
       "3                       ONOMO Hotel Durban\n",
       "8    Holiday Inn Express Durban - Umhlanga\n",
       "5               Regal Inn Umhlanga Gateway\n",
       "9                Coastlands Musgrave Hotel\n",
       "0          Endless Horizons Boutique Hotel\n",
       "Name: hotel name, dtype: object"
      ]
     },
     "execution_count": 45,
     "metadata": {},
     "output_type": "execute_result"
    }
   ],
   "source": [
    "get_recommendations('Ekhaya Boutique Hotel')"
   ]
  },
  {
   "cell_type": "code",
   "execution_count": 46,
   "metadata": {},
   "outputs": [
    {
     "data": {
      "text/plain": [
       "9    Coastlands Musgrave Hotel\n",
       "2        Ekhaya Boutique Hotel\n",
       "1               The Oyster Box\n",
       "4     The Capital Pearls Hotel\n",
       "3           ONOMO Hotel Durban\n",
       "Name: hotel name, dtype: object"
      ]
     },
     "execution_count": 46,
     "metadata": {},
     "output_type": "execute_result"
    }
   ],
   "source": [
    "get_recommendations('Endless Horizons Boutique Hotel')"
   ]
  },
  {
   "cell_type": "code",
   "execution_count": null,
   "metadata": {},
   "outputs": [],
   "source": []
  }
 ],
 "metadata": {
  "kernelspec": {
   "display_name": "Python 3",
   "language": "python",
   "name": "python3"
  },
  "language_info": {
   "codemirror_mode": {
    "name": "ipython",
    "version": 3
   },
   "file_extension": ".py",
   "mimetype": "text/x-python",
   "name": "python",
   "nbconvert_exporter": "python",
   "pygments_lexer": "ipython3",
   "version": "3.7.3"
  }
 },
 "nbformat": 4,
 "nbformat_minor": 2
}
